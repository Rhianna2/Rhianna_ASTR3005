{
 "cells": [
  {
   "cell_type": "code",
   "execution_count": 1,
   "id": "7ac431e5",
   "metadata": {},
   "outputs": [],
   "source": [
    "import numpy as np\n",
    "import matplotlib.pyplot as plt\n",
    "from astropy.table import Table,join\n",
    "from astropy.io import fits"
   ]
  },
  {
   "cell_type": "code",
   "execution_count": 8,
   "id": "c316d99a",
   "metadata": {},
   "outputs": [
    {
     "data": {
      "text/html": [
       "<div><i>Table length=136</i>\n",
       "<table id=\"table5537975360\" class=\"table-striped table-bordered table-condensed\">\n",
       "<thead><tr><th>LC</th><th>Star</th><th>Sample</th><th>GaiaDR3</th><th>_2MASS</th><th>EPIC</th><th>Per</th><th>e_Per</th><th>Bmag</th><th>e_Bmag</th><th>Vmag</th><th>e_Vmag</th><th>Rmag</th><th>e_Rmag</th><th>Imag</th><th>e_Imag</th><th>Jmag</th><th>e_Jmag</th><th>Hmag</th><th>e_Hmag</th><th>Kmag</th><th>e_Kmag</th><th>Gmag</th><th>e_Gmag</th><th>BPmag</th><th>e_BPmag</th><th>RPmag</th><th>e_RPmag</th><th>M67</th><th>G-RP</th><th>G-RP0</th><th>e_G-RP</th><th>BP-RP</th><th>BP-RP0</th><th>e_BP-RP</th><th>B-V</th><th>B-V0</th><th>e_B-V</th><th>V-K</th><th>V-K0</th><th>e_V-K</th><th>RA_ICRS</th><th>e_RA_ICRS</th><th>DE_ICRS</th><th>e_DE_ICRS</th><th>Plx</th><th>e_Plx</th><th>pmRA</th><th>e_pmRA</th><th>pmDE</th><th>e_pmDE</th><th>RV</th><th>e_RV</th><th>OType</th><th>SpType</th><th>binary</th><th>photbin</th><th>MS</th><th>HPS</th><th>DD</th><th>xstamp</th><th>ystamp</th><th>Kepler</th><th>K2sc</th><th>Everest</th><th>FileName</th><th>Simbad</th><th>_RA_icrs</th><th>_DE_icrs</th></tr></thead>\n",
       "<thead><tr><th></th><th></th><th></th><th></th><th></th><th></th><th>d</th><th>d</th><th>mag</th><th>mag</th><th>mag</th><th>mag</th><th>mag</th><th>mag</th><th>mag</th><th>mag</th><th>mag</th><th>mag</th><th>mag</th><th>mag</th><th>mag</th><th>mag</th><th>mag</th><th>mag</th><th>mag</th><th>mag</th><th>mag</th><th>mag</th><th></th><th>mag</th><th>mag</th><th>mag</th><th>mag</th><th>mag</th><th>mag</th><th>mag</th><th>mag</th><th>mag</th><th>mag</th><th>mag</th><th>mag</th><th>deg</th><th>arcsec</th><th>deg</th><th>arcsec</th><th>mas</th><th>mas</th><th>mas / yr</th><th>mas / yr</th><th>mas / yr</th><th>mas / yr</th><th>km / s</th><th>km / s</th><th></th><th></th><th></th><th></th><th></th><th></th><th></th><th>pix</th><th>pix</th><th></th><th></th><th></th><th></th><th></th><th>deg</th><th>deg</th></tr></thead>\n",
       "<thead><tr><th>bytes2</th><th>int16</th><th>bytes1</th><th>int64</th><th>bytes17</th><th>int32</th><th>float32</th><th>float32</th><th>float32</th><th>float32</th><th>float32</th><th>float32</th><th>float32</th><th>float32</th><th>float32</th><th>float32</th><th>float32</th><th>float32</th><th>float32</th><th>float32</th><th>float32</th><th>float32</th><th>float32</th><th>float32</th><th>float32</th><th>float32</th><th>float32</th><th>float32</th><th>bytes1</th><th>float32</th><th>float32</th><th>float32</th><th>float32</th><th>float32</th><th>float32</th><th>float32</th><th>float32</th><th>float32</th><th>float32</th><th>float32</th><th>float32</th><th>float64</th><th>float32</th><th>float64</th><th>float32</th><th>float32</th><th>float32</th><th>float32</th><th>float32</th><th>float32</th><th>float32</th><th>float32</th><th>float32</th><th>bytes13</th><th>bytes8</th><th>bytes1</th><th>bytes1</th><th>bytes1</th><th>bytes1</th><th>bytes1</th><th>float32</th><th>float32</th><th>bytes1</th><th>bytes1</th><th>bytes1</th><th>bytes9</th><th>bytes6</th><th>float64</th><th>float64</th></tr></thead>\n",
       "<tr><td>LC</td><td>1</td><td>Y</td><td>598903678707639296</td><td>J08503611+1137059</td><td>211398541</td><td>32.3500</td><td>1.2300</td><td>17.180</td><td>--</td><td>16.200</td><td>--</td><td>--</td><td>--</td><td>15.135</td><td>--</td><td>14.420</td><td>0.030</td><td>13.890</td><td>0.040</td><td>13.820</td><td>0.040</td><td>15.932</td><td>0.003</td><td>16.460</td><td>0.005</td><td>15.248</td><td>0.004</td><td>M</td><td>0.684</td><td>0.654</td><td>0.005</td><td>1.212</td><td>1.158</td><td>0.007</td><td>0.980</td><td>0.940</td><td>--</td><td>2.380</td><td>2.267</td><td>--</td><td>132.7</td><td>0.0368</td><td>11.6</td><td>0.0205</td><td>1.1289</td><td>0.0426</td><td>-10.892</td><td>0.046</td><td>-2.937</td><td>0.034</td><td>34.240</td><td>0.470</td><td>RotV*</td><td>--</td><td>N</td><td>N</td><td>Y</td><td>N</td><td>Y</td><td>24.821</td><td>387.959</td><td>Y</td><td>Y</td><td>N</td><td>0001.fits</td><td>Simbad</td><td>132.7</td><td>11.6</td></tr>\n",
       "<tr><td>LC</td><td>2</td><td>N</td><td>604893680617395200</td><td></td><td>--</td><td>3.2024</td><td>0.0229</td><td>17.717</td><td>--</td><td>16.760</td><td>0.021</td><td>--</td><td>--</td><td>15.580</td><td>--</td><td>14.764</td><td>0.036</td><td>14.135</td><td>0.042</td><td>13.957</td><td>0.047</td><td>16.306</td><td>0.003</td><td>16.850</td><td>0.009</td><td>15.599</td><td>0.006</td><td>F</td><td>0.707</td><td>--</td><td>0.007</td><td>1.250</td><td>--</td><td>0.011</td><td>0.957</td><td>--</td><td>--</td><td>2.803</td><td>--</td><td>0.052</td><td>133.0</td><td>0.0479</td><td>11.6</td><td>0.0244</td><td>0.8685</td><td>0.0593</td><td>1.376</td><td>0.058</td><td>-1.826</td><td>0.043</td><td>--</td><td>--</td><td>V*</td><td>--</td><td>N</td><td>N</td><td>Y</td><td>N</td><td>Y</td><td>315.933</td><td>391.797</td><td>N</td><td>N</td><td>N</td><td>0002.fits</td><td>Simbad</td><td>133.0</td><td>11.6</td></tr>\n",
       "<tr><td>LC</td><td>3</td><td>N</td><td>604894092934247936</td><td></td><td>--</td><td>20.6881</td><td>1.1305</td><td>17.526</td><td>--</td><td>16.575</td><td>0.024</td><td>--</td><td>--</td><td>15.507</td><td>--</td><td>14.820</td><td>0.034</td><td>14.299</td><td>0.044</td><td>14.149</td><td>0.053</td><td>16.273</td><td>0.003</td><td>16.794</td><td>0.006</td><td>15.605</td><td>0.004</td><td>F</td><td>0.668</td><td>--</td><td>0.005</td><td>1.190</td><td>--</td><td>0.007</td><td>0.951</td><td>--</td><td>--</td><td>2.426</td><td>--</td><td>0.058</td><td>133.0</td><td>0.0448</td><td>11.6</td><td>0.0239</td><td>0.9615</td><td>0.0532</td><td>-3.089</td><td>0.056</td><td>-15.703</td><td>0.043</td><td>--</td><td>--</td><td>Star</td><td>--</td><td>N</td><td>N</td><td>Y</td><td>N</td><td>N</td><td>314.917</td><td>357.607</td><td>N</td><td>N</td><td>N</td><td>0003.fits</td><td>Simbad</td><td>133.0</td><td>11.6</td></tr>\n",
       "<tr><td>LC</td><td>4</td><td>N</td><td>604895948360165888</td><td></td><td>211397501</td><td>24.2382</td><td>0.7252</td><td>18.049</td><td>--</td><td>16.735</td><td>--</td><td>--</td><td>--</td><td>15.277</td><td>--</td><td>14.430</td><td>0.029</td><td>13.734</td><td>0.033</td><td>13.651</td><td>0.040</td><td>16.246</td><td>0.003</td><td>16.986</td><td>0.006</td><td>15.414</td><td>0.006</td><td>M</td><td>0.832</td><td>0.802</td><td>0.006</td><td>1.572</td><td>1.518</td><td>0.008</td><td>1.314</td><td>1.274</td><td>--</td><td>3.084</td><td>2.971</td><td>--</td><td>132.8</td><td>0.0463</td><td>11.6</td><td>0.0256</td><td>1.2702</td><td>0.0543</td><td>-10.902</td><td>0.057</td><td>-2.866</td><td>0.044</td><td>--</td><td>--</td><td>RotV*</td><td>--</td><td>Y</td><td>Y</td><td>Y</td><td>Y</td><td>N</td><td>188.545</td><td>397.717</td><td>Y</td><td>Y</td><td>N</td><td>0004.fits</td><td>Simbad</td><td>132.8</td><td>11.6</td></tr>\n",
       "<tr><td>LC</td><td>5</td><td>Y</td><td>604896498115959296</td><td>J08514220+1136081</td><td>--</td><td>23.5000</td><td>1.5000</td><td>19.560</td><td>--</td><td>18.087</td><td>--</td><td>--</td><td>--</td><td>16.434</td><td>--</td><td>15.482</td><td>0.050</td><td>14.689</td><td>0.056</td><td>14.700</td><td>0.086</td><td>17.503</td><td>0.003</td><td>18.374</td><td>0.016</td><td>16.592</td><td>0.006</td><td>M</td><td>0.911</td><td>0.881</td><td>0.007</td><td>1.782</td><td>1.728</td><td>0.017</td><td>1.473</td><td>1.433</td><td>--</td><td>3.387</td><td>3.274</td><td>--</td><td>132.9</td><td>0.0848</td><td>11.6</td><td>0.0460</td><td>1.2575</td><td>0.1019</td><td>-11.030</td><td>0.105</td><td>-3.211</td><td>0.078</td><td>--</td><td>--</td><td>Star</td><td>--</td><td>N</td><td>N</td><td>Y</td><td>N</td><td>N</td><td>269.302</td><td>395.716</td><td>N</td><td>N</td><td>N</td><td>0005.fits</td><td>Simbad</td><td>132.9</td><td>11.6</td></tr>\n",
       "<tr><td>LC</td><td>6</td><td>N</td><td>604896566835438464</td><td>J08513769+1137037</td><td>211398504</td><td>1.4550</td><td>0.0500</td><td>12.910</td><td>0.300</td><td>12.344</td><td>0.059</td><td>--</td><td>--</td><td>11.777</td><td>--</td><td>11.550</td><td>0.021</td><td>11.411</td><td>0.022</td><td>11.341</td><td>0.020</td><td>12.221</td><td>0.003</td><td>12.423</td><td>0.003</td><td>11.883</td><td>0.004</td><td>M</td><td>0.338</td><td>0.308</td><td>0.005</td><td>0.540</td><td>0.486</td><td>0.005</td><td>0.566</td><td>0.526</td><td>0.306</td><td>1.003</td><td>0.890</td><td>0.062</td><td>132.9</td><td>0.0318</td><td>11.6</td><td>0.0172</td><td>1.3773</td><td>0.0375</td><td>-11.125</td><td>0.041</td><td>-2.056</td><td>0.033</td><td>32.200</td><td>0.350</td><td>BlueStraggler</td><td>F2V</td><td>N</td><td>N</td><td>N</td><td>N</td><td>Y</td><td>252.260</td><td>382.232</td><td>Y</td><td>Y</td><td>N</td><td>0006.fits</td><td>Simbad</td><td>132.9</td><td>11.6</td></tr>\n",
       "<tr><td>...</td><td>...</td><td>...</td><td>...</td><td>...</td><td>...</td><td>...</td><td>...</td><td>...</td><td>...</td><td>...</td><td>...</td><td>...</td><td>...</td><td>...</td><td>...</td><td>...</td><td>...</td><td>...</td><td>...</td><td>...</td><td>...</td><td>...</td><td>...</td><td>...</td><td>...</td><td>...</td><td>...</td><td>...</td><td>...</td><td>...</td><td>...</td><td>...</td><td>...</td><td>...</td><td>...</td><td>...</td><td>...</td><td>...</td><td>...</td><td>...</td><td>...</td><td>...</td><td>...</td><td>...</td><td>...</td><td>...</td><td>...</td><td>...</td><td>...</td><td>...</td><td>...</td><td>...</td><td>...</td><td>...</td><td>...</td><td>...</td><td>...</td><td>...</td><td>...</td><td>...</td><td>...</td><td>...</td><td>...</td><td>...</td><td>...</td><td>...</td><td>...</td><td>...</td></tr>\n",
       "<tr><td>LC</td><td>131</td><td>Y</td><td>604971466769552128</td><td></td><td>--</td><td>27.9074</td><td>1.9784</td><td>18.081</td><td>--</td><td>16.983</td><td>--</td><td>--</td><td>--</td><td>--</td><td>--</td><td>14.789</td><td>0.034</td><td>14.136</td><td>0.038</td><td>13.930</td><td>0.046</td><td>16.507</td><td>0.003</td><td>17.177</td><td>0.007</td><td>15.723</td><td>0.005</td><td>M</td><td>0.784</td><td>0.754</td><td>0.006</td><td>1.455</td><td>1.401</td><td>0.009</td><td>1.098</td><td>1.058</td><td>--</td><td>3.053</td><td>2.940</td><td>--</td><td>132.8</td><td>0.0480</td><td>12.0</td><td>0.0280</td><td>1.1460</td><td>0.0569</td><td>-10.971</td><td>0.057</td><td>-2.147</td><td>0.045</td><td>--</td><td>--</td><td>Star</td><td>--</td><td>N</td><td>N</td><td>Y</td><td>N</td><td>Y</td><td>129.384</td><td>43.091</td><td>N</td><td>N</td><td>N</td><td>0131.fits</td><td>Simbad</td><td>132.8</td><td>12.0</td></tr>\n",
       "<tr><td>LC</td><td>132</td><td>N</td><td>604971844726417536</td><td>J08512410+1201305</td><td>--</td><td>2.7038</td><td>0.0199</td><td>15.760</td><td>--</td><td>15.043</td><td>0.148</td><td>--</td><td>--</td><td>--</td><td>--</td><td>13.481</td><td>0.023</td><td>13.008</td><td>0.025</td><td>12.889</td><td>0.028</td><td>14.791</td><td>0.003</td><td>15.210</td><td>0.004</td><td>14.190</td><td>0.005</td><td>M</td><td>0.601</td><td>0.571</td><td>0.006</td><td>1.020</td><td>0.966</td><td>0.007</td><td>0.717</td><td>0.677</td><td>--</td><td>2.154</td><td>2.041</td><td>0.151</td><td>132.9</td><td>0.0281</td><td>12.0</td><td>0.0161</td><td>1.3307</td><td>0.0344</td><td>-11.612</td><td>0.034</td><td>-3.233</td><td>0.026</td><td>34.230</td><td>4.610</td><td>RSCVn</td><td>G6V</td><td>Y</td><td>Y</td><td>Y</td><td>N</td><td>N</td><td>191.818</td><td>14.934</td><td>N</td><td>N</td><td>N</td><td>0132.fits</td><td>Simbad</td><td>132.9</td><td>12.0</td></tr>\n",
       "<tr><td>LC</td><td>133</td><td>Y</td><td>604972467498966400</td><td>J08505769+1200406</td><td>--</td><td>32.3000</td><td>1.5000</td><td>16.690</td><td>--</td><td>15.678</td><td>0.191</td><td>--</td><td>--</td><td>--</td><td>--</td><td>14.183</td><td>0.027</td><td>13.774</td><td>0.029</td><td>13.641</td><td>0.037</td><td>15.535</td><td>0.003</td><td>15.996</td><td>0.004</td><td>14.903</td><td>0.004</td><td>M</td><td>0.631</td><td>0.601</td><td>0.005</td><td>1.092</td><td>1.038</td><td>0.006</td><td>1.012</td><td>0.972</td><td>--</td><td>2.037</td><td>1.924</td><td>0.195</td><td>132.7</td><td>0.0337</td><td>12.0</td><td>0.0168</td><td>1.1556</td><td>0.0398</td><td>-10.846</td><td>0.040</td><td>-3.082</td><td>0.029</td><td>33.500</td><td>0.400</td><td>Star</td><td>--</td><td>N</td><td>N</td><td>Y</td><td>N</td><td>Y</td><td>94.737</td><td>30.196</td><td>N</td><td>N</td><td>N</td><td>0133.fits</td><td>Simbad</td><td>132.7</td><td>12.0</td></tr>\n",
       "<tr><td>LC</td><td>134</td><td>Y</td><td>604973979325779328</td><td>J08504851+1200541</td><td>--</td><td>28.7243</td><td>1.0587</td><td>15.860</td><td>--</td><td>15.113</td><td>0.184</td><td>--</td><td>--</td><td>--</td><td>--</td><td>13.697</td><td>0.025</td><td>13.290</td><td>0.028</td><td>13.239</td><td>0.028</td><td>14.882</td><td>0.003</td><td>15.278</td><td>0.003</td><td>14.323</td><td>0.004</td><td>M</td><td>0.560</td><td>0.530</td><td>0.005</td><td>0.955</td><td>0.901</td><td>0.005</td><td>0.747</td><td>0.707</td><td>--</td><td>1.874</td><td>1.761</td><td>0.186</td><td>132.7</td><td>0.0240</td><td>12.0</td><td>0.0132</td><td>1.2401</td><td>0.0283</td><td>-11.087</td><td>0.029</td><td>-3.341</td><td>0.022</td><td>35.900</td><td>0.900</td><td>Star</td><td>--</td><td>N</td><td>N</td><td>Y</td><td>Y</td><td>N</td><td>60.826</td><td>27.716</td><td>N</td><td>N</td><td>N</td><td>0134.fits</td><td>Simbad</td><td>132.7</td><td>12.0</td></tr>\n",
       "<tr><td>LC</td><td>135</td><td>N</td><td>604974082404993920</td><td>J08504620+1201582</td><td>--</td><td>17.5780</td><td>0.7265</td><td>13.990</td><td>--</td><td>13.428</td><td>0.053</td><td>--</td><td>--</td><td>--</td><td>--</td><td>12.355</td><td>0.022</td><td>12.077</td><td>0.023</td><td>12.061</td><td>0.021</td><td>13.277</td><td>0.003</td><td>13.566</td><td>0.003</td><td>12.829</td><td>0.004</td><td>M</td><td>0.448</td><td>0.418</td><td>0.005</td><td>0.737</td><td>0.683</td><td>0.005</td><td>0.562</td><td>0.522</td><td>--</td><td>1.367</td><td>1.254</td><td>0.057</td><td>132.7</td><td>0.0247</td><td>12.0</td><td>0.0134</td><td>1.1346</td><td>0.0292</td><td>-10.911</td><td>0.028</td><td>-3.229</td><td>0.023</td><td>33.220</td><td>0.310</td><td>SB*</td><td>--</td><td>Y</td><td>N</td><td>Y</td><td>N</td><td>Y</td><td>51.822</td><td>11.862</td><td>N</td><td>N</td><td>N</td><td>0135.fits</td><td>Simbad</td><td>132.7</td><td>12.0</td></tr>\n",
       "<tr><td>LC</td><td>136</td><td>Y</td><td>604974151124482944</td><td></td><td>--</td><td>31.5660</td><td>2.8877</td><td>17.070</td><td>--</td><td>16.150</td><td>--</td><td>--</td><td>--</td><td>--</td><td>--</td><td>14.331</td><td>0.028</td><td>13.859</td><td>0.034</td><td>13.802</td><td>0.039</td><td>15.813</td><td>0.003</td><td>16.327</td><td>0.004</td><td>15.146</td><td>0.004</td><td>M</td><td>0.668</td><td>0.638</td><td>0.005</td><td>1.182</td><td>1.128</td><td>0.006</td><td>0.920</td><td>0.880</td><td>--</td><td>2.348</td><td>2.235</td><td>--</td><td>132.7</td><td>0.0353</td><td>12.0</td><td>0.0202</td><td>1.1580</td><td>0.0408</td><td>-10.997</td><td>0.042</td><td>-3.003</td><td>0.036</td><td>34.400</td><td>0.080</td><td>Star</td><td>--</td><td>N</td><td>N</td><td>Y</td><td>N</td><td>Y</td><td>18.819</td><td>21.677</td><td>N</td><td>N</td><td>N</td><td>0136.fits</td><td>Simbad</td><td>132.7</td><td>12.0</td></tr>\n",
       "</table></div>"
      ],
      "text/plain": [
       "<Table length=136>\n",
       "  LC    Star Sample ... Simbad     _RA_icrs        _DE_icrs   \n",
       "                    ...              deg             deg      \n",
       "bytes2 int16 bytes1 ... bytes6     float64         float64    \n",
       "------ ----- ------ ... ------ --------------- ---------------\n",
       "    LC     1      Y ... Simbad           132.7            11.6\n",
       "    LC     2      N ... Simbad           133.0            11.6\n",
       "    LC     3      N ... Simbad           133.0            11.6\n",
       "    LC     4      N ... Simbad           132.8            11.6\n",
       "    LC     5      Y ... Simbad           132.9            11.6\n",
       "    LC     6      N ... Simbad           132.9            11.6\n",
       "   ...   ...    ... ...    ...             ...             ...\n",
       "    LC   131      Y ... Simbad           132.8            12.0\n",
       "    LC   132      N ... Simbad           132.9            12.0\n",
       "    LC   133      Y ... Simbad           132.7            12.0\n",
       "    LC   134      Y ... Simbad           132.7            12.0\n",
       "    LC   135      N ... Simbad           132.7            12.0\n",
       "    LC   136      Y ... Simbad           132.7            12.0"
      ]
     },
     "execution_count": 8,
     "metadata": {},
     "output_type": "execute_result"
    }
   ],
   "source": [
    "Table.read('J_A+A_672_A159_tablec4.fits')"
   ]
  },
  {
   "cell_type": "code",
   "execution_count": 9,
   "id": "5d11bbfa",
   "metadata": {},
   "outputs": [
    {
     "data": {
      "text/html": [
       "<div><i>Table length=32</i>\n",
       "<table id=\"table5536966752\" class=\"table-striped table-bordered table-condensed\">\n",
       "<thead><tr><th>EPIC</th><th>GaiaDR2</th><th>_2MASS</th><th>RAJ2000</th><th>DEJ2000</th><th>__BP-RP_0</th><th>__B-V_0</th><th>__B-V_calc</th><th>Gmag</th><th>e_Gmag</th><th>BPmag</th><th>e_BPmag</th><th>RPmag</th><th>e_RPmag</th><th>Bmag</th><th>e_Bmag</th><th>Vmag</th><th>e_Vmag</th><th>Jmag</th><th>e_Jmag</th><th>Hmag</th><th>e_Hmag</th><th>Kmag</th><th>e_Kmag</th><th>Per</th><th>e_Per</th><th>Cat</th><th>Ncomp</th><th>Object</th><th>GyroSample</th><th>LC</th><th>FileName</th><th>Simbad</th></tr></thead>\n",
       "<thead><tr><th></th><th></th><th></th><th>deg</th><th>deg</th><th>mag</th><th>mag</th><th>mag</th><th>mag</th><th>mag</th><th>mag</th><th>mag</th><th>mag</th><th>mag</th><th>mag</th><th>mag</th><th>mag</th><th>mag</th><th>mag</th><th>mag</th><th>mag</th><th>mag</th><th>mag</th><th>mag</th><th>d</th><th>d</th><th></th><th></th><th></th><th></th><th></th><th></th><th></th></tr></thead>\n",
       "<thead><tr><th>int32</th><th>int64</th><th>bytes17</th><th>float64</th><th>float64</th><th>float32</th><th>float32</th><th>float32</th><th>float32</th><th>float32</th><th>float32</th><th>float32</th><th>float32</th><th>float32</th><th>float32</th><th>float32</th><th>float32</th><th>float32</th><th>float32</th><th>float32</th><th>float32</th><th>float32</th><th>float32</th><th>float32</th><th>float32</th><th>float32</th><th>uint8</th><th>int16</th><th>bytes3</th><th>bytes1</th><th>bytes2</th><th>bytes23</th><th>bytes6</th></tr></thead>\n",
       "<tr><td>218933140</td><td>4084645500601105536</td><td>J19180938-1752498</td><td>289.539124</td><td>-17.880541</td><td>0.872</td><td>0.691</td><td>0.692</td><td>12.359</td><td>0.000</td><td>12.764</td><td>0.002</td><td>11.792</td><td>0.002</td><td>13.284</td><td>0.010</td><td>12.516</td><td>0.010</td><td>11.113</td><td>0.024</td><td>10.823</td><td>0.025</td><td>10.736</td><td>0.023</td><td>20.429</td><td>2.5</td><td>1</td><td>9</td><td>MS</td><td>Y</td><td>LC</td><td>epic_218933140_hdu.fits</td><td>Simbad</td></tr>\n",
       "<tr><td>219037489</td><td>4087622153460553216</td><td>J19144383-1739427</td><td>288.682617</td><td>-17.661888</td><td>0.990</td><td>0.833</td><td>0.800</td><td>13.030</td><td>0.001</td><td>13.504</td><td>0.001</td><td>12.414</td><td>0.002</td><td>14.125</td><td>0.010</td><td>13.215</td><td>0.050</td><td>11.632</td><td>0.021</td><td>11.280</td><td>0.022</td><td>11.145</td><td>0.019</td><td>22.810</td><td>1.5</td><td>1</td><td>6</td><td>MS</td><td>Y</td><td>LC</td><td>epic_219037489_hdu.fits</td><td>Simbad</td></tr>\n",
       "<tr><td>219141523</td><td>4087725262729508736</td><td>J19153691-1726070</td><td>288.903839</td><td>-17.435295</td><td>2.270</td><td>--</td><td>1.504</td><td>16.561</td><td>0.001</td><td>17.813</td><td>0.006</td><td>15.443</td><td>0.015</td><td>--</td><td>--</td><td>--</td><td>--</td><td>13.914</td><td>0.026</td><td>13.314</td><td>0.028</td><td>13.101</td><td>0.038</td><td>26.891</td><td>1.8</td><td>1</td><td>4</td><td>MS</td><td>Y</td><td>LC</td><td>epic_219141523_hdu.fits</td><td>Simbad</td></tr>\n",
       "<tr><td>219238231</td><td>4087736159069458304</td><td>J19163672-1713101</td><td>289.153046</td><td>-17.219547</td><td>0.783</td><td>1.000</td><td>0.613</td><td>12.091</td><td>0.000</td><td>12.457</td><td>0.001</td><td>11.574</td><td>0.002</td><td>13.373</td><td>0.381</td><td>12.295</td><td>0.216</td><td>10.948</td><td>0.023</td><td>10.684</td><td>0.024</td><td>10.623</td><td>0.021</td><td>28.100</td><td>0.9</td><td>2</td><td>3</td><td>MS</td><td>N</td><td>LC</td><td>epic_219238231_hdu.fits</td><td>Simbad</td></tr>\n",
       "<tr><td>219275512</td><td>4087748833503644800</td><td>J19155912-1708032</td><td>288.996429</td><td>-17.134293</td><td>0.884</td><td>0.599</td><td>0.703</td><td>11.859</td><td>0.000</td><td>12.279</td><td>0.001</td><td>11.295</td><td>0.001</td><td>12.544</td><td>0.217</td><td>11.867</td><td>0.166</td><td>10.607</td><td>0.022</td><td>10.283</td><td>0.022</td><td>10.186</td><td>0.021</td><td>20.434</td><td>0.5</td><td>2</td><td>6</td><td>BIN</td><td>N</td><td>LC</td><td>epic_219275512_hdu.fits</td><td>Simbad</td></tr>\n",
       "<tr><td>219280168</td><td>4087714409360276864</td><td>J19133741-1707261</td><td>288.405884</td><td>-17.123953</td><td>1.148</td><td>0.934</td><td>0.945</td><td>13.328</td><td>0.001</td><td>13.886</td><td>0.002</td><td>12.638</td><td>0.003</td><td>14.583</td><td>0.030</td><td>13.572</td><td>0.020</td><td>11.773</td><td>0.023</td><td>11.275</td><td>0.022</td><td>11.172</td><td>0.023</td><td>23.010</td><td>0.8</td><td>1</td><td>5</td><td>MS</td><td>Y</td><td>LC</td><td>epic_219280168_hdu.fits</td><td>Simbad</td></tr>\n",
       "<tr><td>...</td><td>...</td><td>...</td><td>...</td><td>...</td><td>...</td><td>...</td><td>...</td><td>...</td><td>...</td><td>...</td><td>...</td><td>...</td><td>...</td><td>...</td><td>...</td><td>...</td><td>...</td><td>...</td><td>...</td><td>...</td><td>...</td><td>...</td><td>...</td><td>...</td><td>...</td><td>...</td><td>...</td><td>...</td><td>...</td><td>...</td><td>...</td><td>...</td></tr>\n",
       "<tr><td>219683737</td><td>4183968401721906048</td><td>J19175075-1606406</td><td>289.461487</td><td>-16.111315</td><td>1.072</td><td>0.913</td><td>0.875</td><td>13.313</td><td>0.001</td><td>13.830</td><td>0.003</td><td>12.658</td><td>0.002</td><td>14.529</td><td>0.020</td><td>13.538</td><td>0.090</td><td>11.841</td><td>0.024</td><td>11.409</td><td>0.022</td><td>11.306</td><td>0.023</td><td>21.756</td><td>1.0</td><td>1</td><td>5</td><td>MS</td><td>Y</td><td>LC</td><td>epic_219683737_hdu.fits</td><td>Simbad</td></tr>\n",
       "<tr><td>219721519</td><td>4184140406570650496</td><td>J19161757-1600177</td><td>289.073212</td><td>-16.004932</td><td>1.099</td><td>0.873</td><td>0.900</td><td>13.080</td><td>0.001</td><td>13.609</td><td>0.001</td><td>12.410</td><td>0.002</td><td>14.265</td><td>0.030</td><td>13.315</td><td>0.020</td><td>11.515</td><td>0.022</td><td>11.066</td><td>0.022</td><td>10.940</td><td>0.019</td><td>21.903</td><td>1.5</td><td>1</td><td>2</td><td>MS</td><td>Y</td><td>LC</td><td>epic_219721519_hdu.fits</td><td>Simbad</td></tr>\n",
       "<tr><td>219722212</td><td>4184146900561610880</td><td>J19152141-1600107</td><td>288.839233</td><td>-16.002974</td><td>0.935</td><td>0.738</td><td>0.750</td><td>12.766</td><td>0.000</td><td>13.210</td><td>0.002</td><td>12.175</td><td>0.002</td><td>13.720</td><td>0.010</td><td>12.905</td><td>0.040</td><td>11.430</td><td>0.023</td><td>11.091</td><td>0.025</td><td>11.050</td><td>0.026</td><td>22.726</td><td>2.1</td><td>1</td><td>5</td><td>MS</td><td>Y</td><td>LC</td><td>epic_219722212_hdu.fits</td><td>Simbad</td></tr>\n",
       "<tr><td>219722781</td><td>4184140994996369152</td><td>J19163732-1600050</td><td>289.155518</td><td>-16.001408</td><td>1.395</td><td>--</td><td>1.162</td><td>13.894</td><td>0.001</td><td>14.580</td><td>0.001</td><td>13.085</td><td>0.003</td><td>--</td><td>--</td><td>--</td><td>--</td><td>12.015</td><td>0.023</td><td>11.448</td><td>0.025</td><td>11.353</td><td>0.023</td><td>21.409</td><td>0.5</td><td>1</td><td>7</td><td>MS</td><td>Y</td><td>LC</td><td>epic_219722781_hdu.fits</td><td>Simbad</td></tr>\n",
       "<tr><td>219755108</td><td>4184200501759138688</td><td>J19141294-1554291</td><td>288.553925</td><td>-15.908121</td><td>0.943</td><td>0.743</td><td>0.757</td><td>11.949</td><td>0.000</td><td>12.400</td><td>0.001</td><td>11.357</td><td>0.002</td><td>12.964</td><td>0.010</td><td>12.143</td><td>0.020</td><td>10.608</td><td>0.021</td><td>10.251</td><td>0.022</td><td>10.167</td><td>0.021</td><td>14.794</td><td>0.5</td><td>1</td><td>4</td><td>BIN</td><td>N</td><td>LC</td><td>epic_219755108_hdu.fits</td><td>Simbad</td></tr>\n",
       "<tr><td>219800881</td><td>4184182737768311296</td><td>J19162203-1546159</td><td>289.091827</td><td>-15.771108</td><td>0.902</td><td>0.714</td><td>0.719</td><td>12.559</td><td>0.000</td><td>12.986</td><td>0.001</td><td>11.984</td><td>0.001</td><td>13.500</td><td>0.030</td><td>12.708</td><td>0.040</td><td>11.294</td><td>0.024</td><td>11.004</td><td>0.026</td><td>10.859</td><td>0.023</td><td>32.749</td><td>8.1</td><td>2</td><td>5</td><td>MS</td><td>N</td><td>LC</td><td>epic_219800881_hdu.fits</td><td>Simbad</td></tr>\n",
       "</table></div>"
      ],
      "text/plain": [
       "<Table length=32>\n",
       "   EPIC         GaiaDR2       ...         FileName        Simbad\n",
       "                              ...                               \n",
       "  int32          int64        ...         bytes23         bytes6\n",
       "--------- ------------------- ... ----------------------- ------\n",
       "218933140 4084645500601105536 ... epic_218933140_hdu.fits Simbad\n",
       "219037489 4087622153460553216 ... epic_219037489_hdu.fits Simbad\n",
       "219141523 4087725262729508736 ... epic_219141523_hdu.fits Simbad\n",
       "219238231 4087736159069458304 ... epic_219238231_hdu.fits Simbad\n",
       "219275512 4087748833503644800 ... epic_219275512_hdu.fits Simbad\n",
       "219280168 4087714409360276864 ... epic_219280168_hdu.fits Simbad\n",
       "      ...                 ... ...                     ...    ...\n",
       "219683737 4183968401721906048 ... epic_219683737_hdu.fits Simbad\n",
       "219721519 4184140406570650496 ... epic_219721519_hdu.fits Simbad\n",
       "219722212 4184146900561610880 ... epic_219722212_hdu.fits Simbad\n",
       "219722781 4184140994996369152 ... epic_219722781_hdu.fits Simbad\n",
       "219755108 4184200501759138688 ... epic_219755108_hdu.fits Simbad\n",
       "219800881 4184182737768311296 ... epic_219800881_hdu.fits Simbad"
      ]
     },
     "execution_count": 9,
     "metadata": {},
     "output_type": "execute_result"
    }
   ],
   "source": [
    "Table.read ('J_A+A_644_A16_periods.fits')"
   ]
  },
  {
   "cell_type": "code",
   "execution_count": null,
   "id": "b2ddf0fe",
   "metadata": {},
   "outputs": [],
   "source": []
  }
 ],
 "metadata": {
  "kernelspec": {
   "display_name": "Python 3 (ipykernel)",
   "language": "python",
   "name": "python3"
  },
  "language_info": {
   "codemirror_mode": {
    "name": "ipython",
    "version": 3
   },
   "file_extension": ".py",
   "mimetype": "text/x-python",
   "name": "python",
   "nbconvert_exporter": "python",
   "pygments_lexer": "ipython3",
   "version": "3.10.9"
  }
 },
 "nbformat": 4,
 "nbformat_minor": 5
}
